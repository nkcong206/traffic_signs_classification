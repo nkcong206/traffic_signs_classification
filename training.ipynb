{
  "nbformat": 4,
  "nbformat_minor": 0,
  "metadata": {
    "colab": {
      "name": "Untitled0.ipynb",
      "provenance": [],
      "mount_file_id": "1gOO00AEVnVfSlaQkCiv18xAeBUAE1tsQ",
      "authorship_tag": "ABX9TyNeyhztcfgWbjpgj8mY6T9m",
      "include_colab_link": true
    },
    "kernelspec": {
      "name": "python3",
      "display_name": "Python 3"
    },
    "language_info": {
      "name": "python"
    }
  },
  "cells": [
    {
      "cell_type": "markdown",
      "metadata": {
        "id": "view-in-github",
        "colab_type": "text"
      },
      "source": [
        "<a href=\"https://colab.research.google.com/github/nkcong206/traffic_signs_classification/blob/main/training.ipynb\" target=\"_parent\"><img src=\"https://colab.research.google.com/assets/colab-badge.svg\" alt=\"Open In Colab\"/></a>"
      ]
    },
    {
      "cell_type": "code",
      "execution_count": 1,
      "metadata": {
        "id": "fAbJWwaXKKCG"
      },
      "outputs": [],
      "source": [
        "import tensorflow as tf"
      ]
    },
    {
      "cell_type": "code",
      "source": [
        "tf.__version__"
      ],
      "metadata": {
        "colab": {
          "base_uri": "https://localhost:8080/",
          "height": 35
        },
        "id": "oUgxk75yKNMD",
        "outputId": "96e520a4-5f5e-4507-eab8-ab827aff2b8a"
      },
      "execution_count": null,
      "outputs": [
        {
          "output_type": "execute_result",
          "data": {
            "text/plain": [
              "'2.8.2'"
            ],
            "application/vnd.google.colaboratory.intrinsic+json": {
              "type": "string"
            }
          },
          "metadata": {},
          "execution_count": 2
        }
      ]
    },
    {
      "cell_type": "code",
      "source": [
        "pwd"
      ],
      "metadata": {
        "colab": {
          "base_uri": "https://localhost:8080/",
          "height": 35
        },
        "id": "4Nf78saQKq5d",
        "outputId": "d6e2511d-d26f-4797-a570-ff937752885e"
      },
      "execution_count": null,
      "outputs": [
        {
          "output_type": "execute_result",
          "data": {
            "text/plain": [
              "'/content'"
            ],
            "application/vnd.google.colaboratory.intrinsic+json": {
              "type": "string"
            }
          },
          "metadata": {},
          "execution_count": 3
        }
      ]
    },
    {
      "cell_type": "code",
      "source": [
        "cd /content/drive/MyDrive/bien_so_xe"
      ],
      "metadata": {
        "colab": {
          "base_uri": "https://localhost:8080/"
        },
        "id": "Fwr6k_8KK0To",
        "outputId": "0452a6a5-a596-47dd-c70f-1f22d32b5844"
      },
      "execution_count": 2,
      "outputs": [
        {
          "output_type": "stream",
          "name": "stdout",
          "text": [
            "/content/drive/MyDrive/bien_so_xe\n"
          ]
        }
      ]
    },
    {
      "cell_type": "code",
      "source": [
        "link  = \"https://d17h27t6h515a5.cloudfront.net/topher/2017/February/5898cd6f_traffic-signs-data/traffic-signs-data.zip\""
      ],
      "metadata": {
        "id": "NxTNYeB_LE9f"
      },
      "execution_count": null,
      "outputs": []
    },
    {
      "cell_type": "code",
      "source": [
        "!pip install wget"
      ],
      "metadata": {
        "colab": {
          "base_uri": "https://localhost:8080/"
        },
        "id": "4mjCLVH2LQbu",
        "outputId": "253683cc-cf52-446e-d2f5-e02fb6909e83"
      },
      "execution_count": 3,
      "outputs": [
        {
          "output_type": "stream",
          "name": "stdout",
          "text": [
            "Looking in indexes: https://pypi.org/simple, https://us-python.pkg.dev/colab-wheels/public/simple/\n",
            "Collecting wget\n",
            "  Downloading wget-3.2.zip (10 kB)\n",
            "Building wheels for collected packages: wget\n",
            "  Building wheel for wget (setup.py) ... \u001b[?25l\u001b[?25hdone\n",
            "  Created wheel for wget: filename=wget-3.2-py3-none-any.whl size=9675 sha256=6d5338586c9c2e8e1c2a6e4ec552c6ce5e0f9870a5053eb6b7bbdba3924e3d36\n",
            "  Stored in directory: /root/.cache/pip/wheels/a1/b6/7c/0e63e34eb06634181c63adacca38b79ff8f35c37e3c13e3c02\n",
            "Successfully built wget\n",
            "Installing collected packages: wget\n",
            "Successfully installed wget-3.2\n"
          ]
        }
      ]
    },
    {
      "cell_type": "code",
      "source": [
        "import wget"
      ],
      "metadata": {
        "id": "ZaPaa-0KLTZO"
      },
      "execution_count": 4,
      "outputs": []
    },
    {
      "cell_type": "code",
      "source": [
        "wget.download(link)"
      ],
      "metadata": {
        "colab": {
          "base_uri": "https://localhost:8080/",
          "height": 35
        },
        "id": "zLe9vpRLLW2_",
        "outputId": "c93c7bf2-f779-4252-add6-0987abee3554"
      },
      "execution_count": null,
      "outputs": [
        {
          "output_type": "execute_result",
          "data": {
            "text/plain": [
              "'traffic-signs-data.zip'"
            ],
            "application/vnd.google.colaboratory.intrinsic+json": {
              "type": "string"
            }
          },
          "metadata": {},
          "execution_count": 9
        }
      ]
    },
    {
      "cell_type": "code",
      "source": [
        "data = \"./\""
      ],
      "metadata": {
        "id": "EJzylBYRLaOB"
      },
      "execution_count": 5,
      "outputs": []
    },
    {
      "cell_type": "code",
      "source": [
        "!unzip -q traffic-signs-data.zip -d $data"
      ],
      "metadata": {
        "id": "--Vb8dFuLlmS"
      },
      "execution_count": null,
      "outputs": []
    },
    {
      "cell_type": "code",
      "source": [
        "train_link = data + \"train.p\"\n",
        "valid_link = data + \"valid.p\"\n",
        "test_link = data + \"test.p\""
      ],
      "metadata": {
        "id": "w7pZtUXBLu9y"
      },
      "execution_count": 6,
      "outputs": []
    },
    {
      "cell_type": "code",
      "source": [
        "import pickle"
      ],
      "metadata": {
        "id": "xvserp8oMA3i"
      },
      "execution_count": 7,
      "outputs": []
    },
    {
      "cell_type": "code",
      "source": [
        "with open(train_link,mode =\"rb\") as f:\n",
        "    train = pickle.load(f)"
      ],
      "metadata": {
        "id": "knB0cYNwMDxY"
      },
      "execution_count": 8,
      "outputs": []
    },
    {
      "cell_type": "code",
      "source": [
        "with open(valid_link,mode =\"rb\") as f:\n",
        "    valid = pickle.load(f)"
      ],
      "metadata": {
        "id": "ueo0Q9dBPWFC"
      },
      "execution_count": 9,
      "outputs": []
    },
    {
      "cell_type": "code",
      "source": [
        "with open(test_link,mode =\"rb\") as f:\n",
        "    test = pickle.load(f)"
      ],
      "metadata": {
        "id": "8ezLhTzkPVy4"
      },
      "execution_count": 10,
      "outputs": []
    },
    {
      "cell_type": "code",
      "source": [
        "train\n"
      ],
      "metadata": {
        "colab": {
          "base_uri": "https://localhost:8080/"
        },
        "id": "ZI1_EJqFOYN_",
        "outputId": "2fabcd00-a5f7-485e-a92b-f8a480f5c480"
      },
      "execution_count": 11,
      "outputs": [
        {
          "output_type": "execute_result",
          "data": {
            "text/plain": [
              "{'coords': array([[  6,   5,  21,  20],\n",
              "        [  6,   6,  22,  22],\n",
              "        [  5,   6,  22,  23],\n",
              "        ...,\n",
              "        [ 17,  15, 178, 155],\n",
              "        [ 17,  15, 183, 160],\n",
              "        [ 20,  18, 211, 184]], dtype=uint8),\n",
              " 'features': array([[[[ 28,  25,  24],\n",
              "          [ 27,  24,  23],\n",
              "          [ 27,  24,  22],\n",
              "          ...,\n",
              "          [ 32,  28,  24],\n",
              "          [ 31,  27,  25],\n",
              "          [ 31,  27,  26]],\n",
              " \n",
              "         [[ 29,  26,  25],\n",
              "          [ 27,  25,  23],\n",
              "          [ 27,  25,  23],\n",
              "          ...,\n",
              "          [ 32,  28,  24],\n",
              "          [ 31,  27,  24],\n",
              "          [ 30,  27,  25]],\n",
              " \n",
              "         [[ 28,  26,  26],\n",
              "          [ 27,  25,  23],\n",
              "          [ 26,  25,  23],\n",
              "          ...,\n",
              "          [ 32,  28,  24],\n",
              "          [ 31,  27,  24],\n",
              "          [ 30,  27,  25]],\n",
              " \n",
              "         ...,\n",
              " \n",
              "         [[ 27,  24,  23],\n",
              "          [ 28,  25,  24],\n",
              "          [ 30,  25,  24],\n",
              "          ...,\n",
              "          [ 27,  24,  23],\n",
              "          [ 28,  24,  22],\n",
              "          [ 29,  25,  22]],\n",
              " \n",
              "         [[ 28,  23,  23],\n",
              "          [ 29,  24,  24],\n",
              "          [ 31,  25,  24],\n",
              "          ...,\n",
              "          [ 27,  24,  23],\n",
              "          [ 28,  24,  22],\n",
              "          [ 28,  24,  21]],\n",
              " \n",
              "         [[ 29,  23,  23],\n",
              "          [ 30,  24,  24],\n",
              "          [ 32,  24,  23],\n",
              "          ...,\n",
              "          [ 27,  24,  22],\n",
              "          [ 27,  23,  21],\n",
              "          [ 26,  22,  20]]],\n",
              " \n",
              " \n",
              "        [[[ 28,  24,  24],\n",
              "          [ 26,  23,  23],\n",
              "          [ 27,  24,  24],\n",
              "          ...,\n",
              "          [ 31,  28,  26],\n",
              "          [ 31,  28,  27],\n",
              "          [ 32,  28,  27]],\n",
              " \n",
              "         [[ 27,  24,  24],\n",
              "          [ 27,  24,  24],\n",
              "          [ 28,  25,  24],\n",
              "          ...,\n",
              "          [ 31,  27,  25],\n",
              "          [ 31,  27,  26],\n",
              "          [ 33,  29,  27]],\n",
              " \n",
              "         [[ 26,  24,  24],\n",
              "          [ 26,  24,  24],\n",
              "          [ 27,  24,  23],\n",
              "          ...,\n",
              "          [ 31,  26,  25],\n",
              "          [ 31,  27,  26],\n",
              "          [ 33,  29,  27]],\n",
              " \n",
              "         ...,\n",
              " \n",
              "         [[ 28,  25,  23],\n",
              "          [ 30,  27,  24],\n",
              "          [ 30,  27,  24],\n",
              "          ...,\n",
              "          [ 27,  24,  22],\n",
              "          [ 27,  24,  22],\n",
              "          [ 28,  24,  22]],\n",
              " \n",
              "         [[ 27,  24,  22],\n",
              "          [ 29,  26,  23],\n",
              "          [ 31,  26,  24],\n",
              "          ...,\n",
              "          [ 26,  23,  21],\n",
              "          [ 27,  24,  22],\n",
              "          [ 28,  25,  23]],\n",
              " \n",
              "         [[ 28,  24,  23],\n",
              "          [ 28,  24,  22],\n",
              "          [ 29,  24,  22],\n",
              "          ...,\n",
              "          [ 27,  23,  22],\n",
              "          [ 27,  24,  23],\n",
              "          [ 29,  26,  25]]],\n",
              " \n",
              " \n",
              "        [[[ 29,  25,  25],\n",
              "          [ 29,  26,  26],\n",
              "          [ 30,  27,  27],\n",
              "          ...,\n",
              "          [ 31,  27,  24],\n",
              "          [ 31,  28,  25],\n",
              "          [ 32,  29,  27]],\n",
              " \n",
              "         [[ 27,  24,  24],\n",
              "          [ 27,  25,  25],\n",
              "          [ 28,  26,  26],\n",
              "          ...,\n",
              "          [ 31,  27,  23],\n",
              "          [ 32,  28,  25],\n",
              "          [ 33,  30,  27]],\n",
              " \n",
              "         [[ 27,  24,  24],\n",
              "          [ 28,  26,  26],\n",
              "          [ 29,  27,  27],\n",
              "          ...,\n",
              "          [ 32,  28,  24],\n",
              "          [ 32,  28,  24],\n",
              "          [ 33,  29,  26]],\n",
              " \n",
              "         ...,\n",
              " \n",
              "         [[ 28,  26,  22],\n",
              "          [ 29,  26,  21],\n",
              "          [ 31,  26,  22],\n",
              "          ...,\n",
              "          [ 29,  24,  21],\n",
              "          [ 28,  23,  20],\n",
              "          [ 28,  23,  22]],\n",
              " \n",
              "         [[ 27,  26,  23],\n",
              "          [ 28,  25,  21],\n",
              "          [ 30,  25,  22],\n",
              "          ...,\n",
              "          [ 28,  23,  21],\n",
              "          [ 27,  22,  20],\n",
              "          [ 28,  24,  22]],\n",
              " \n",
              "         [[ 29,  26,  23],\n",
              "          [ 28,  24,  21],\n",
              "          [ 29,  24,  21],\n",
              "          ...,\n",
              "          [ 29,  25,  23],\n",
              "          [ 28,  24,  22],\n",
              "          [ 30,  26,  24]]],\n",
              " \n",
              " \n",
              "        ...,\n",
              " \n",
              " \n",
              "        [[[ 51,  67,  86],\n",
              "          [ 55,  59,  71],\n",
              "          [ 75,  81,  92],\n",
              "          ...,\n",
              "          [250, 248, 243],\n",
              "          [207, 212, 233],\n",
              "          [121, 116, 140]],\n",
              " \n",
              "         [[ 35,  42,  49],\n",
              "          [ 48,  47,  51],\n",
              "          [ 91,  96, 113],\n",
              "          ...,\n",
              "          [220, 224, 226],\n",
              "          [169, 177, 187],\n",
              "          [ 84,  87, 100]],\n",
              " \n",
              "         [[ 27,  26,  29],\n",
              "          [ 41,  38,  39],\n",
              "          [ 55,  64,  78],\n",
              "          ...,\n",
              "          [122, 143, 160],\n",
              "          [ 97, 104, 129],\n",
              "          [ 59,  59,  56]],\n",
              " \n",
              "         ...,\n",
              " \n",
              "         [[ 24,  23,  27],\n",
              "          [ 21,  20,  27],\n",
              "          [ 20,  19,  22],\n",
              "          ...,\n",
              "          [ 76,  79,  83],\n",
              "          [ 54,  64,  77],\n",
              "          [ 45,  51,  65]],\n",
              " \n",
              "         [[ 31,  31,  33],\n",
              "          [ 22,  23,  29],\n",
              "          [ 20,  18,  21],\n",
              "          ...,\n",
              "          [ 66,  67,  84],\n",
              "          [ 56,  65,  74],\n",
              "          [ 45,  55,  73]],\n",
              " \n",
              "         [[ 28,  28,  30],\n",
              "          [ 22,  21,  25],\n",
              "          [ 19,  18,  19],\n",
              "          ...,\n",
              "          [ 67,  63,  76],\n",
              "          [ 39,  45,  55],\n",
              "          [ 32,  37,  47]]],\n",
              " \n",
              " \n",
              "        [[[ 82,  78,  96],\n",
              "          [120, 126, 148],\n",
              "          [112, 125, 146],\n",
              "          ...,\n",
              "          [185, 182, 177],\n",
              "          [204, 210, 215],\n",
              "          [132, 114, 121]],\n",
              " \n",
              "         [[ 74,  77,  93],\n",
              "          [171, 174, 185],\n",
              "          [137, 164, 184],\n",
              "          ...,\n",
              "          [180, 181, 187],\n",
              "          [198, 200, 213],\n",
              "          [ 79,  85,  85]],\n",
              " \n",
              "         [[ 54,  50,  56],\n",
              "          [100, 106, 118],\n",
              "          [117, 132, 158],\n",
              "          ...,\n",
              "          [157, 153, 160],\n",
              "          [176, 183, 199],\n",
              "          [ 88,  80,  82]],\n",
              " \n",
              "         ...,\n",
              " \n",
              "         [[ 22,  21,  22],\n",
              "          [ 20,  19,  19],\n",
              "          [ 18,  16,  19],\n",
              "          ...,\n",
              "          [ 50,  50,  60],\n",
              "          [ 37,  43,  52],\n",
              "          [ 30,  41,  59]],\n",
              " \n",
              "         [[ 18,  16,  18],\n",
              "          [ 19,  17,  18],\n",
              "          [ 19,  18,  21],\n",
              "          ...,\n",
              "          [ 36,  44,  60],\n",
              "          [ 33,  36,  48],\n",
              "          [ 36,  43,  61]],\n",
              " \n",
              "         [[ 18,  17,  20],\n",
              "          [ 21,  20,  23],\n",
              "          [ 24,  22,  25],\n",
              "          ...,\n",
              "          [ 32,  34,  41],\n",
              "          [ 45,  42,  48],\n",
              "          [ 41,  43,  52]]],\n",
              " \n",
              " \n",
              "        [[[ 69,  79,  96],\n",
              "          [ 24,  26,  28],\n",
              "          [ 40,  42,  45],\n",
              "          ...,\n",
              "          [225, 234, 237],\n",
              "          [151, 161, 166],\n",
              "          [164, 162, 169]],\n",
              " \n",
              "         [[ 99, 110, 125],\n",
              "          [ 36,  41,  47],\n",
              "          [ 63,  56,  62],\n",
              "          ...,\n",
              "          [197, 216, 224],\n",
              "          [154, 163, 169],\n",
              "          [164, 163, 159]],\n",
              " \n",
              "         [[104, 107, 113],\n",
              "          [ 34,  37,  40],\n",
              "          [ 72,  70,  77],\n",
              "          ...,\n",
              "          [223, 237, 235],\n",
              "          [181, 192, 198],\n",
              "          [166, 167, 159]],\n",
              " \n",
              "         ...,\n",
              " \n",
              "         [[ 21,  20,  23],\n",
              "          [ 23,  24,  30],\n",
              "          [ 19,  20,  24],\n",
              "          ...,\n",
              "          [ 45,  47,  54],\n",
              "          [ 58,  62,  70],\n",
              "          [ 58,  70,  82]],\n",
              " \n",
              "         [[ 18,  17,  21],\n",
              "          [ 19,  19,  24],\n",
              "          [ 18,  18,  23],\n",
              "          ...,\n",
              "          [ 36,  36,  40],\n",
              "          [ 58,  59,  70],\n",
              "          [ 61,  69,  81]],\n",
              " \n",
              "         [[ 17,  16,  19],\n",
              "          [ 16,  15,  18],\n",
              "          [ 16,  15,  18],\n",
              "          ...,\n",
              "          [ 40,  40,  44],\n",
              "          [ 57,  62,  73],\n",
              "          [ 57,  68,  80]]]], dtype=uint8),\n",
              " 'labels': array([41, 41, 41, ..., 25, 25, 25], dtype=uint8),\n",
              " 'sizes': array([[ 26,  25],\n",
              "        [ 27,  27],\n",
              "        [ 27,  28],\n",
              "        ...,\n",
              "        [194, 169],\n",
              "        [201, 175],\n",
              "        [230, 201]], dtype=uint8)}"
            ]
          },
          "metadata": {},
          "execution_count": 11
        }
      ]
    },
    {
      "cell_type": "code",
      "source": [
        "trainX = train[\"features\"]\n",
        "trainY = train[\"labels\"]"
      ],
      "metadata": {
        "id": "SdWDUznpOd-1"
      },
      "execution_count": 12,
      "outputs": []
    },
    {
      "cell_type": "code",
      "source": [
        "trainX.shape"
      ],
      "metadata": {
        "colab": {
          "base_uri": "https://localhost:8080/"
        },
        "id": "Mw0ACWpzOusS",
        "outputId": "ff2ac273-89e0-4b2c-d67e-f3720733cb94"
      },
      "execution_count": 13,
      "outputs": [
        {
          "output_type": "execute_result",
          "data": {
            "text/plain": [
              "(34799, 32, 32, 3)"
            ]
          },
          "metadata": {},
          "execution_count": 13
        }
      ]
    },
    {
      "cell_type": "code",
      "source": [
        "trainX[0].shape"
      ],
      "metadata": {
        "colab": {
          "base_uri": "https://localhost:8080/"
        },
        "id": "A_4VxnzMOxWS",
        "outputId": "3e316d69-2778-4f60-9d8c-b3a6a204f88f"
      },
      "execution_count": 14,
      "outputs": [
        {
          "output_type": "execute_result",
          "data": {
            "text/plain": [
              "(32, 32, 3)"
            ]
          },
          "metadata": {},
          "execution_count": 14
        }
      ]
    },
    {
      "cell_type": "code",
      "source": [
        "import matplotlib.pyplot as plt\n"
      ],
      "metadata": {
        "id": "pg8M2hl6O6ea"
      },
      "execution_count": 15,
      "outputs": []
    },
    {
      "cell_type": "code",
      "source": [
        "plt.imshow(trainX[0])"
      ],
      "metadata": {
        "colab": {
          "base_uri": "https://localhost:8080/",
          "height": 283
        },
        "id": "0UnoHk8uO_yL",
        "outputId": "8c089848-f83e-4351-8949-e980919c4c8f"
      },
      "execution_count": 16,
      "outputs": [
        {
          "output_type": "execute_result",
          "data": {
            "text/plain": [
              "<matplotlib.image.AxesImage at 0x7f4a70e988d0>"
            ]
          },
          "metadata": {},
          "execution_count": 16
        },
        {
          "output_type": "display_data",
          "data": {
            "text/plain": [
              "<Figure size 432x288 with 1 Axes>"
            ],
            "image/png": "[encoded data removed]"
          },
          "metadata": {
            "needs_background": "light"
          }
        }
      ]
    },
    {
      "cell_type": "code",
      "source": [
        "classNames = {0: 'Speed limit (20km/h)',\n",
        " 1: 'Speed limit (30km/h)',\n",
        " 2: 'Speed limit (50km/h)',\n",
        " 3: 'Speed limit (60km/h)',\n",
        " 4: 'Speed limit (70km/h)',\n",
        " 5: 'Speed limit (80km/h)',\n",
        " 6: 'End of speed limit (80km/h)',\n",
        " 7: 'Speed limit (100km/h)',\n",
        " 8: 'Speed limit (120km/h)',\n",
        " 9: 'No passing',\n",
        " 10: 'No passing for vehicles over 3.5 metric tons',\n",
        " 11: 'Right-of-way at the next intersection',\n",
        " 12: 'Priority road',\n",
        " 13: 'Yield',\n",
        " 14: 'Stop',\n",
        " 15: 'No vehicles',\n",
        " 16: 'Vehicles over 3.5 metric tons prohibited',\n",
        " 17: 'No entry',\n",
        " 18: 'General caution',\n",
        " 19: 'Dangerous curve to the left',\n",
        " 20: 'Dangerous curve to the right',\n",
        " 21: 'Double curve',\n",
        " 22: 'Bumpy road',\n",
        " 23: 'Slippery road',\n",
        " 24: 'Road narrows on the right',\n",
        " 25: 'Road work',\n",
        " 26: 'Traffic signals',\n",
        " 27: 'Pedestrians',\n",
        " 28: 'Children crossing',\n",
        " 29: 'Bicycles crossing',\n",
        " 30: 'Beware of ice/snow',\n",
        " 31: 'Wild animals crossing',\n",
        " 32: 'End of all speed and passing limits',\n",
        " 33: 'Turn right ahead',\n",
        " 34: 'Turn left ahead',\n",
        " 35: 'Ahead only',\n",
        " 36: 'Go straight or right',\n",
        " 37: 'Go straight or left',\n",
        " 38: 'Keep right',\n",
        " 39: 'Keep left',\n",
        " 40: 'Roundabout mandatory',\n",
        " 41: 'End of no passing',\n",
        " 42: 'End of no passing by vehicles over 3.5 metric tons'}\n"
      ],
      "metadata": {
        "id": "WVaDOLBYPDT3"
      },
      "execution_count": 17,
      "outputs": []
    },
    {
      "cell_type": "code",
      "source": [
        "trainY[0]"
      ],
      "metadata": {
        "colab": {
          "base_uri": "https://localhost:8080/"
        },
        "id": "XpKB36bFPTGb",
        "outputId": "eb6a38ff-6ddb-4214-c8bb-e91b7c594f93"
      },
      "execution_count": 20,
      "outputs": [
        {
          "output_type": "execute_result",
          "data": {
            "text/plain": [
              "41"
            ]
          },
          "metadata": {},
          "execution_count": 20
        }
      ]
    },
    {
      "cell_type": "code",
      "source": [
        "classNames[trainY[0]]"
      ],
      "metadata": {
        "colab": {
          "base_uri": "https://localhost:8080/",
          "height": 35
        },
        "id": "SY5GAEzfPZ-D",
        "outputId": "056ec788-4600-42af-e4c4-5ea247b9c9ae"
      },
      "execution_count": 21,
      "outputs": [
        {
          "output_type": "execute_result",
          "data": {
            "text/plain": [
              "'End of no passing'"
            ],
            "application/vnd.google.colaboratory.intrinsic+json": {
              "type": "string"
            }
          },
          "metadata": {},
          "execution_count": 21
        }
      ]
    },
    {
      "cell_type": "code",
      "source": [
        "from sklearn.utils import shuffle"
      ],
      "metadata": {
        "id": "mzcxVBP4PrYZ"
      },
      "execution_count": 22,
      "outputs": []
    },
    {
      "cell_type": "code",
      "source": [
        "trainX, trainY = shuffle(trainX, trainY)"
      ],
      "metadata": {
        "id": "96PTL94tPzfP"
      },
      "execution_count": 23,
      "outputs": []
    },
    {
      "cell_type": "code",
      "source": [
        "plt.imshow(trainX[0])"
      ],
      "metadata": {
        "colab": {
          "base_uri": "https://localhost:8080/",
          "height": 283
        },
        "id": "ecljoBdeP5-A",
        "outputId": "b8118976-b3f0-4c5c-eaa6-4390e4bde024"
      },
      "execution_count": 25,
      "outputs": [
        {
          "output_type": "execute_result",
          "data": {
            "text/plain": [
              "<matplotlib.image.AxesImage at 0x7f4a70d15790>"
            ]
          },
          "metadata": {},
          "execution_count": 25
        },
        {
          "output_type": "display_data",
          "data": {
            "text/plain": [
              "<Figure size 432x288 with 1 Axes>"
            ],
            "image/png": "[encoded data removed]"
          },
          "metadata": {
            "needs_background": "light"
          }
        }
      ]
    },
    {
      "cell_type": "code",
      "source": [
        "classNames[trainY[0]]"
      ],
      "metadata": {
        "colab": {
          "base_uri": "https://localhost:8080/",
          "height": 35
        },
        "id": "NCXkhfvdP9nQ",
        "outputId": "d78603cc-5d9b-4525-b81b-ac7c90ad0740"
      },
      "execution_count": 26,
      "outputs": [
        {
          "output_type": "execute_result",
          "data": {
            "text/plain": [
              "'Speed limit (70km/h)'"
            ],
            "application/vnd.google.colaboratory.intrinsic+json": {
              "type": "string"
            }
          },
          "metadata": {},
          "execution_count": 26
        }
      ]
    },
    {
      "cell_type": "code",
      "source": [
        "validX = valid[\"features\"]\n",
        "validY = valid[\"labels\"]"
      ],
      "metadata": {
        "id": "Y-iMSuD2QClP"
      },
      "execution_count": 28,
      "outputs": []
    },
    {
      "cell_type": "code",
      "source": [
        "testX = test[\"features\"]\n",
        "testY = test[\"labels\"]"
      ],
      "metadata": {
        "id": "FMm12ErCQNNi"
      },
      "execution_count": 29,
      "outputs": []
    },
    {
      "cell_type": "code",
      "source": [
        "trainX = trainX.astype(\"float\")/255.0"
      ],
      "metadata": {
        "id": "S_ykjwR4QVNW"
      },
      "execution_count": 30,
      "outputs": []
    },
    {
      "cell_type": "code",
      "source": [
        "validX = validX.astype(\"float\")/255.0"
      ],
      "metadata": {
        "id": "SOs2SRTFQhip"
      },
      "execution_count": 31,
      "outputs": []
    },
    {
      "cell_type": "code",
      "source": [
        "testX = testX.astype(\"float\")/255.0"
      ],
      "metadata": {
        "id": "pHpLMpRdQoiE"
      },
      "execution_count": 32,
      "outputs": []
    },
    {
      "cell_type": "code",
      "source": [
        "from sklearn.preprocessing import LabelBinarizer"
      ],
      "metadata": {
        "id": "hwx3exOBQrV5"
      },
      "execution_count": 33,
      "outputs": []
    },
    {
      "cell_type": "code",
      "source": [
        "lb = LabelBinarizer()"
      ],
      "metadata": {
        "id": "znCccSO5RE_u"
      },
      "execution_count": 34,
      "outputs": []
    },
    {
      "cell_type": "code",
      "source": [
        "trainY = lb.fit_transform(trainY)"
      ],
      "metadata": {
        "id": "pYHFUh89RHSK"
      },
      "execution_count": 35,
      "outputs": []
    },
    {
      "cell_type": "code",
      "source": [
        "validY = lb.fit_transform(validY)"
      ],
      "metadata": {
        "id": "NiNYarUBRMYk"
      },
      "execution_count": 36,
      "outputs": []
    },
    {
      "cell_type": "code",
      "source": [
        "testY = lb.fit_transform(testY)"
      ],
      "metadata": {
        "id": "uGhtT12URSYH"
      },
      "execution_count": 37,
      "outputs": []
    },
    {
      "cell_type": "code",
      "source": [
        "from tensorflow.keras.models import Model\n",
        "from tensorflow.keras.models import Sequential\n",
        "from tensorflow.keras.layers import BatchNormalization\n",
        "from tensorflow.keras.layers import AveragePooling2D\n",
        "from tensorflow.keras.layers import MaxPooling2D\n",
        "from tensorflow.keras.layers import Conv2D\n",
        "from tensorflow.keras.layers import Activation\n",
        "from tensorflow.keras.layers import Dropout\n",
        "from tensorflow.keras.layers import Flatten\n",
        "from tensorflow.keras.layers import Input\n",
        "from tensorflow.keras.layers import Dense\n",
        "from tensorflow.keras.layers import concatenate\n"
      ],
      "metadata": {
        "id": "ytRenqmlRXXH"
      },
      "execution_count": 38,
      "outputs": []
    },
    {
      "cell_type": "code",
      "source": [
        "from tensorflow.keras.preprocessing.image import ImageDataGenerator\n",
        "from tensorflow.keras.optimizers import SGD"
      ],
      "metadata": {
        "id": "ES7tKyd8RyQ0"
      },
      "execution_count": 39,
      "outputs": []
    },
    {
      "cell_type": "code",
      "source": [
        "model = Sequential()"
      ],
      "metadata": {
        "id": "_oP33rWwSGCH"
      },
      "execution_count": 40,
      "outputs": []
    },
    {
      "cell_type": "code",
      "source": [
        "width = 32\n",
        "height = 32\n",
        "classes = 43"
      ],
      "metadata": {
        "id": "8ohhLgbESNk0"
      },
      "execution_count": 41,
      "outputs": []
    },
    {
      "cell_type": "code",
      "source": [
        "shape = (width, height, 3)"
      ],
      "metadata": {
        "id": "A8BZo3G_SVF6"
      },
      "execution_count": 42,
      "outputs": []
    },
    {
      "cell_type": "code",
      "source": [
        "model.add(Conv2D(32,(3,3), padding = \"same\", input_shape=shape))"
      ],
      "metadata": {
        "id": "EFVpDAh2SY-r"
      },
      "execution_count": 45,
      "outputs": []
    },
    {
      "cell_type": "code",
      "source": [
        "model.add(Activation(\"relu\"))"
      ],
      "metadata": {
        "id": "qs4gw3zjUVwh"
      },
      "execution_count": 47,
      "outputs": []
    },
    {
      "cell_type": "code",
      "source": [
        "model.add(BatchNormalization())"
      ],
      "metadata": {
        "id": "1nHSUi3nUsZI"
      },
      "execution_count": 50,
      "outputs": []
    },
    {
      "cell_type": "code",
      "source": [
        "model.add(Conv2D(32,(3,3), padding = \"same\"))"
      ],
      "metadata": {
        "id": "tLqFTbxbU5sw"
      },
      "execution_count": 52,
      "outputs": []
    },
    {
      "cell_type": "code",
      "source": [
        "model.add(Activation(\"relu\"))"
      ],
      "metadata": {
        "id": "QJcocyeQVD1p"
      },
      "execution_count": 53,
      "outputs": []
    },
    {
      "cell_type": "code",
      "source": [
        "model.add(BatchNormalization())"
      ],
      "metadata": {
        "id": "ZbE_HpzUVHS7"
      },
      "execution_count": 54,
      "outputs": []
    },
    {
      "cell_type": "code",
      "source": [
        "model.add(MaxPooling2D(pool_size=(2,2)))"
      ],
      "metadata": {
        "id": "OX7ENTW4VNgj"
      },
      "execution_count": 56,
      "outputs": []
    },
    {
      "cell_type": "code",
      "source": [
        "model.add(Conv2D(64,(3,3), padding = \"same\"))"
      ],
      "metadata": {
        "id": "onA3Dt4FWExo"
      },
      "execution_count": 58,
      "outputs": []
    },
    {
      "cell_type": "code",
      "source": [
        "model.add(Activation(\"relu\"))"
      ],
      "metadata": {
        "id": "lnRWy9zNWKWh"
      },
      "execution_count": 59,
      "outputs": []
    },
    {
      "cell_type": "code",
      "source": [
        "model.add(BatchNormalization())"
      ],
      "metadata": {
        "id": "-GlD44s4WNxQ"
      },
      "execution_count": 60,
      "outputs": []
    },
    {
      "cell_type": "code",
      "source": [
        "model.add(Conv2D(64,(3,3), padding = \"same\"))"
      ],
      "metadata": {
        "id": "qtK0HV8tWYDG"
      },
      "execution_count": 61,
      "outputs": []
    },
    {
      "cell_type": "code",
      "source": [
        "model.add(Activation(\"relu\"))"
      ],
      "metadata": {
        "id": "Qov6BoX2WZdu"
      },
      "execution_count": 62,
      "outputs": []
    },
    {
      "cell_type": "code",
      "source": [
        "model.add(BatchNormalization())"
      ],
      "metadata": {
        "id": "7bAm_tfbWbHI"
      },
      "execution_count": 63,
      "outputs": []
    },
    {
      "cell_type": "code",
      "source": [
        "model.add(MaxPooling2D(pool_size=(2,2)))"
      ],
      "metadata": {
        "id": "35RQUjYQWesx"
      },
      "execution_count": 64,
      "outputs": []
    },
    {
      "cell_type": "code",
      "source": [
        "model.add(Flatten())"
      ],
      "metadata": {
        "id": "74pl8w5DXD1w"
      },
      "execution_count": 66,
      "outputs": []
    },
    {
      "cell_type": "code",
      "source": [
        "model.add(Dense(512))"
      ],
      "metadata": {
        "id": "gM4SB4WXXawi"
      },
      "execution_count": 68,
      "outputs": []
    },
    {
      "cell_type": "code",
      "source": [
        "model.add(Activation(\"relu\"))"
      ],
      "metadata": {
        "id": "fPJHzsuyXfxO"
      },
      "execution_count": 69,
      "outputs": []
    },
    {
      "cell_type": "code",
      "source": [
        "model.add(BatchNormalization())"
      ],
      "metadata": {
        "id": "xObjaaE6XmJ_"
      },
      "execution_count": 70,
      "outputs": []
    },
    {
      "cell_type": "code",
      "source": [
        "model.add(Dense(classes))"
      ],
      "metadata": {
        "id": "1FRrpsIGXyBq"
      },
      "execution_count": 71,
      "outputs": []
    },
    {
      "cell_type": "code",
      "source": [
        "model.add(Activation(\"softmax\"))"
      ],
      "metadata": {
        "id": "92QaXCUpX5ND"
      },
      "execution_count": 72,
      "outputs": []
    },
    {
      "cell_type": "code",
      "source": [
        "model.summary()"
      ],
      "metadata": {
        "colab": {
          "base_uri": "https://localhost:8080/"
        },
        "id": "FKRFUanEVpNE",
        "outputId": "ab1672c4-eaa0-4e97-fcc1-ff382d5a9cb2"
      },
      "execution_count": 73,
      "outputs": [
        {
          "output_type": "stream",
          "name": "stdout",
          "text": [
            "Model: \"sequential\"\n",
            "_________________________________________________________________\n",
            " Layer (type)                Output Shape              Param #   \n",
            "=================================================================\n",
            " conv2d (Conv2D)             (None, 32, 32, 32)        896       \n",
            "                                                                 \n",
            " activation (Activation)     (None, 32, 32, 32)        0         \n",
            "                                                                 \n",
            " batch_normalization (BatchN  (None, 32, 32, 32)       128       \n",
            " ormalization)                                                   \n",
            "                                                                 \n",
            " conv2d_1 (Conv2D)           (None, 32, 32, 32)        9248      \n",
            "                                                                 \n",
            " activation_1 (Activation)   (None, 32, 32, 32)        0         \n",
            "                                                                 \n",
            " batch_normalization_1 (Batc  (None, 32, 32, 32)       128       \n",
            " hNormalization)                                                 \n",
            "                                                                 \n",
            " max_pooling2d (MaxPooling2D  (None, 16, 16, 32)       0         \n",
            " )                                                               \n",
            "                                                                 \n",
            " conv2d_2 (Conv2D)           (None, 16, 16, 64)        18496     \n",
            "                                                                 \n",
            " activation_2 (Activation)   (None, 16, 16, 64)        0         \n",
            "                                                                 \n",
            " batch_normalization_2 (Batc  (None, 16, 16, 64)       256       \n",
            " hNormalization)                                                 \n",
            "                                                                 \n",
            " conv2d_3 (Conv2D)           (None, 16, 16, 64)        36928     \n",
            "                                                                 \n",
            " activation_3 (Activation)   (None, 16, 16, 64)        0         \n",
            "                                                                 \n",
            " batch_normalization_3 (Batc  (None, 16, 16, 64)       256       \n",
            " hNormalization)                                                 \n",
            "                                                                 \n",
            " max_pooling2d_1 (MaxPooling  (None, 8, 8, 64)         0         \n",
            " 2D)                                                             \n",
            "                                                                 \n",
            " flatten (Flatten)           (None, 4096)              0         \n",
            "                                                                 \n",
            " dense (Dense)               (None, 512)               2097664   \n",
            "                                                                 \n",
            " activation_4 (Activation)   (None, 512)               0         \n",
            "                                                                 \n",
            " batch_normalization_4 (Batc  (None, 512)              2048      \n",
            " hNormalization)                                                 \n",
            "                                                                 \n",
            " dense_1 (Dense)             (None, 43)                22059     \n",
            "                                                                 \n",
            " activation_5 (Activation)   (None, 43)                0         \n",
            "                                                                 \n",
            "=================================================================\n",
            "Total params: 2,188,107\n",
            "Trainable params: 2,186,699\n",
            "Non-trainable params: 1,408\n",
            "_________________________________________________________________\n"
          ]
        }
      ]
    },
    {
      "cell_type": "code",
      "source": [
        "aug = ImageDataGenerator(rotation_range= 0.18, zoom_range=0.15, width_shift_range=0.2, height_shift_range=0.2, horizontal_flip=True)"
      ],
      "metadata": {
        "id": "2JxoNh5HVsqD"
      },
      "execution_count": 76,
      "outputs": []
    },
    {
      "cell_type": "code",
      "source": [
        "learning_rate = 0.01"
      ],
      "metadata": {
        "id": "IYb503fuYxsK"
      },
      "execution_count": 77,
      "outputs": []
    },
    {
      "cell_type": "code",
      "source": [
        "epochs = 10\n",
        "# epoch\n",
        "# Steps\n",
        "\n",
        "batch_size = 64"
      ],
      "metadata": {
        "id": "2hBhBYtAZElM"
      },
      "execution_count": 85,
      "outputs": []
    },
    {
      "cell_type": "code",
      "source": [
        "opt = SGD(learning_rate=learning_rate,momentum=0.9)"
      ],
      "metadata": {
        "id": "JZVrN93AZW_r"
      },
      "execution_count": 78,
      "outputs": []
    },
    {
      "cell_type": "code",
      "source": [
        "model.compile(optimizer=opt, loss= \"categorical_crossentropy\", metrics=[\"accuracy\"])"
      ],
      "metadata": {
        "id": "jAGySJSZZhBB"
      },
      "execution_count": 79,
      "outputs": []
    },
    {
      "cell_type": "code",
      "source": [
        "print(\"start training\")\n",
        "H = model.fit_generator(aug.flow(trainX, trainY, batch_size=batch_size), validation_data=(validX, validY), \n",
        "                        steps_per_epoch=trainX.shape[0] // batch_size, epochs=epochs, verbose=1)"
      ],
      "metadata": {
        "colab": {
          "base_uri": "https://localhost:8080/"
        },
        "id": "xNqmjIiJZxto",
        "outputId": "0a79da55-722d-4b83-a300-8a9e3031427c"
      },
      "execution_count": 87,
      "outputs": [
        {
          "output_type": "stream",
          "name": "stdout",
          "text": [
            "start training\n"
          ]
        },
        {
          "output_type": "stream",
          "name": "stderr",
          "text": [
            "/usr/local/lib/python3.7/dist-packages/ipykernel_launcher.py:3: UserWarning: `Model.fit_generator` is deprecated and will be removed in a future version. Please use `Model.fit`, which supports generators.\n",
            "  This is separate from the ipykernel package so we can avoid doing imports until\n"
          ]
        },
        {
          "output_type": "stream",
          "name": "stdout",
          "text": [
            "Epoch 1/10\n",
            "543/543 [==============================] - 225s 412ms/step - loss: 1.9140 - accuracy: 0.4483 - val_loss: 1.8214 - val_accuracy: 0.4889\n",
            "Epoch 2/10\n",
            "543/543 [==============================] - 218s 402ms/step - loss: 0.7388 - accuracy: 0.7600 - val_loss: 1.4109 - val_accuracy: 0.6274\n",
            "Epoch 3/10\n",
            "543/543 [==============================] - 219s 404ms/step - loss: 0.3713 - accuracy: 0.8801 - val_loss: 0.7986 - val_accuracy: 0.7596\n",
            "Epoch 4/10\n",
            "543/543 [==============================] - 218s 401ms/step - loss: 0.2352 - accuracy: 0.9230 - val_loss: 0.7814 - val_accuracy: 0.7766\n",
            "Epoch 5/10\n",
            "543/543 [==============================] - 217s 400ms/step - loss: 0.1572 - accuracy: 0.9485 - val_loss: 0.5753 - val_accuracy: 0.8515\n",
            "Epoch 6/10\n",
            "543/543 [==============================] - 217s 400ms/step - loss: 0.1164 - accuracy: 0.9647 - val_loss: 0.7333 - val_accuracy: 0.8200\n",
            "Epoch 7/10\n",
            "543/543 [==============================] - 218s 401ms/step - loss: 0.1016 - accuracy: 0.9661 - val_loss: 0.7408 - val_accuracy: 0.8188\n",
            "Epoch 8/10\n",
            "543/543 [==============================] - 219s 403ms/step - loss: 0.0826 - accuracy: 0.9735 - val_loss: 0.5033 - val_accuracy: 0.8728\n",
            "Epoch 9/10\n",
            "543/543 [==============================] - 216s 397ms/step - loss: 0.0693 - accuracy: 0.9783 - val_loss: 0.5163 - val_accuracy: 0.8744\n",
            "Epoch 10/10\n",
            "543/543 [==============================] - 216s 398ms/step - loss: 0.0566 - accuracy: 0.9827 - val_loss: 0.4784 - val_accuracy: 0.8912\n"
          ]
        }
      ]
    },
    {
      "cell_type": "code",
      "source": [
        "model.save(\"traffic_signs.h5\")"
      ],
      "metadata": {
        "id": "QUA0mPzKaZJm"
      },
      "execution_count": 88,
      "outputs": []
    },
    {
      "cell_type": "code",
      "source": [
        "saved_model = tf.keras.models.load_model(\"traffic_signs.h5\")"
      ],
      "metadata": {
        "id": "DhOuz6KRkohT"
      },
      "execution_count": 90,
      "outputs": []
    },
    {
      "cell_type": "code",
      "source": [
        "result = saved_model.predict(testX[200:201])"
      ],
      "metadata": {
        "id": "aSDUQs3hlvCq"
      },
      "execution_count": 109,
      "outputs": []
    },
    {
      "cell_type": "code",
      "source": [
        "result"
      ],
      "metadata": {
        "colab": {
          "base_uri": "https://localhost:8080/"
        },
        "id": "_wdFwM98mFK4",
        "outputId": "ae4b9bca-789b-48e6-e4ec-9b9ca3546455"
      },
      "execution_count": 102,
      "outputs": [
        {
          "output_type": "execute_result",
          "data": {
            "text/plain": [
              "array([[3.01478747e-02, 9.61533785e-01, 1.69647552e-04, 3.87796763e-06,\n",
              "        3.39646870e-03, 2.81056646e-06, 1.89908189e-06, 1.95949062e-04,\n",
              "        2.00745519e-04, 4.95683253e-06, 2.53840299e-05, 8.62263478e-05,\n",
              "        2.08459314e-05, 3.77960419e-06, 2.95281297e-05, 1.28748798e-06,\n",
              "        3.63372806e-06, 2.91537253e-06, 6.57579862e-04, 5.20710346e-05,\n",
              "        2.88812294e-06, 4.25876315e-05, 7.70105430e-07, 8.44177703e-06,\n",
              "        1.81090127e-05, 9.57139942e-04, 3.94215785e-05, 1.20050812e-04,\n",
              "        1.88818794e-05, 1.08897694e-07, 1.72987693e-05, 5.73080570e-06,\n",
              "        7.97824305e-06, 3.47927858e-06, 5.03185311e-06, 3.54597178e-05,\n",
              "        2.01854346e-06, 3.82039325e-05, 2.03314866e-03, 3.76001590e-05,\n",
              "        2.16365388e-05, 3.99943674e-05, 2.96091866e-06]], dtype=float32)"
            ]
          },
          "metadata": {},
          "execution_count": 102
        }
      ]
    },
    {
      "cell_type": "code",
      "source": [
        "import numpy as np"
      ],
      "metadata": {
        "id": "dkwNcn3LmGhc"
      },
      "execution_count": 103,
      "outputs": []
    },
    {
      "cell_type": "code",
      "source": [
        "final = np.argmax(result)"
      ],
      "metadata": {
        "id": "duSOExaxmOJE"
      },
      "execution_count": 110,
      "outputs": []
    },
    {
      "cell_type": "code",
      "source": [
        "final = classNames[final]"
      ],
      "metadata": {
        "id": "Z5UZ8A17mmgo"
      },
      "execution_count": 111,
      "outputs": []
    },
    {
      "cell_type": "code",
      "source": [
        "final "
      ],
      "metadata": {
        "colab": {
          "base_uri": "https://localhost:8080/",
          "height": 35
        },
        "id": "WEm7Idy5mSNa",
        "outputId": "99e4b843-9f9f-4ccd-938f-fa97ce67367f"
      },
      "execution_count": 112,
      "outputs": [
        {
          "output_type": "execute_result",
          "data": {
            "text/plain": [
              "'No entry'"
            ],
            "application/vnd.google.colaboratory.intrinsic+json": {
              "type": "string"
            }
          },
          "metadata": {},
          "execution_count": 112
        }
      ]
    },
    {
      "cell_type": "code",
      "source": [
        "plt.imshow(test[\"features\"][200])"
      ],
      "metadata": {
        "colab": {
          "base_uri": "https://localhost:8080/",
          "height": 283
        },
        "id": "LPbPeDQImUYC",
        "outputId": "2dc162c9-b1a5-4e2e-beec-ce8408b2efdc"
      },
      "execution_count": 114,
      "outputs": [
        {
          "output_type": "execute_result",
          "data": {
            "text/plain": [
              "<matplotlib.image.AxesImage at 0x7f4a6b6ac7d0>"
            ]
          },
          "metadata": {},
          "execution_count": 114
        },
        {
          "output_type": "display_data",
          "data": {
            "text/plain": [
              "<Figure size 432x288 with 1 Axes>"
            ],
            "image/png": "[encoded data removed]"
          },
          "metadata": {
            "needs_background": "light"
          }
        }
      ]
    },
    {
      "cell_type": "code",
      "source": [
        ""
      ],
      "metadata": {
        "id": "lNT9_MGXmeKd"
      },
      "execution_count": null,
      "outputs": []
    }
  ]
}